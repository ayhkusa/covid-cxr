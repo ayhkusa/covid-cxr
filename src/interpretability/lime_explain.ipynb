{
 "cells": [
  {
   "cell_type": "code",
   "execution_count": null,
   "metadata": {},
   "outputs": [],
   "source": [
    "# lime_explain.py\n",
    "# sudo -E /opt/tljh/user/bin/pip3 install lime"
   ]
  },
  {
   "cell_type": "code",
   "execution_count": 3,
   "metadata": {},
   "outputs": [
    {
     "ename": "ModuleNotFoundError",
     "evalue": "No module named 'tensorflow'",
     "output_type": "error",
     "traceback": [
      "\u001b[0;31m---------------------------------------------------------------------------\u001b[0m\n\u001b[0;31mModuleNotFoundError\u001b[0m                       Traceback (most recent call last)",
      "In  \u001b[0;34m[3]\u001b[0m:\nLine \u001b[0;34m9\u001b[0m:     \u001b[34mfrom\u001b[39;49;00m \u001b[04m\u001b[36mtensorflow\u001b[39;49;00m\u001b[04m\u001b[36m.\u001b[39;49;00m\u001b[04m\u001b[36mkeras\u001b[39;49;00m\u001b[04m\u001b[36m.\u001b[39;49;00m\u001b[04m\u001b[36mmodels\u001b[39;49;00m \u001b[34mimport\u001b[39;49;00m load_model\n",
      "\u001b[0;31mModuleNotFoundError\u001b[0m: No module named 'tensorflow'\n\u001b[0;31m---------------------------------------------------------------------------\u001b[0m"
     ]
    }
   ],
   "source": [
    "from lime.lime_image import *\n",
    "import pandas as pd\n",
    "import yaml #pyyaml\n",
    "import os\n",
    "import datetime\n",
    "import dill\n",
    "import cv2 #opencv-python\n",
    "import numpy as np\n",
    "from tensorflow.keras.models import load_model\n",
    "from tensorflow.keras.preprocessing.image import ImageDataGenerator\n",
    "import sys\n",
    "#sys.path.append('/home/ubuntu/covid-cxr/src/')\n",
    "sys.path.insert(0, os.path.abspath('../'))\n",
    "from visualization.visualize import visualize_explanation\n",
    "from predict import predict_instance, predict_and_explain\n",
    "from data.preprocess import remove_text"
   ]
  },
  {
   "cell_type": "code",
   "execution_count": null,
   "metadata": {},
   "outputs": [],
   "source": [
    "def setup_lime():\n",
    "    '''\n",
    "    Load relevant information and create a LIME Explainer\n",
    "    :return: dict containing important information and objects for explanation experiments\n",
    "    '''\n",
    "\n",
    "    # Load relevant constants from project config file\n",
    "    cfg = yaml.full_load(open(\"/home/ubuntu/covid-cxr/config.yml\", 'r'))\n",
    "    lime_dict = {}\n",
    "    lime_dict['NUM_SAMPLES'] = cfg['LIME']['NUM_SAMPLES']\n",
    "    lime_dict['NUM_FEATURES'] = cfg['LIME']['NUM_FEATURES']\n",
    "    lime_dict['IMG_PATH'] = cfg['PATHS']['IMAGES']\n",
    "    lime_dict['RAW_DATA_PATH'] = cfg['PATHS']['RAW_DATA']\n",
    "    lime_dict['IMG_DIM'] = cfg['DATA']['IMG_DIM']\n",
    "    lime_dict['PRED_THRESHOLD'] = cfg['PREDICTION']['THRESHOLD']\n",
    "    lime_dict['CLASSES'] = cfg['DATA']['CLASSES']\n",
    "    lime_dict['CLASS_MODE'] = cfg['TRAIN']['CLASS_MODE']\n",
    "    lime_dict['COVID_ONLY'] = cfg['LIME']['COVID_ONLY']\n",
    "    KERNEL_WIDTH = cfg['LIME']['KERNEL_WIDTH']\n",
    "    FEATURE_SELECTION = cfg['LIME']['FEATURE_SELECTION']\n",
    "\n",
    "    # Load train and test sets\n",
    "    lime_dict['TRAIN_SET'] = pd.read_csv(cfg['PATHS']['TRAIN_SET'])\n",
    "    lime_dict['TEST_SET'] = pd.read_csv(cfg['PATHS']['TEST_SET'])\n",
    "\n",
    "    # Create ImageDataGenerator for test set\n",
    "    test_img_gen = ImageDataGenerator(preprocessing_function=remove_text,\n",
    "                                       samplewise_std_normalization=True, samplewise_center=True)\n",
    "    test_generator = test_img_gen.flow_from_dataframe(dataframe=lime_dict['TEST_SET'], directory=cfg['PATHS']['RAW_DATA'],\n",
    "        x_col=\"filename\", y_col='label_str', target_size=tuple(cfg['DATA']['IMG_DIM']), batch_size=1,\n",
    "        class_mode='categorical', validate_filenames=False, shuffle=False)\n",
    "    lime_dict['TEST_GENERATOR'] = test_generator\n",
    "\n",
    "    # Define the LIME explainer\n",
    "    lime_dict['EXPLAINER'] = LimeImageExplainer(kernel_width=KERNEL_WIDTH, feature_selection=FEATURE_SELECTION,\n",
    "                                                verbose=True)\n",
    "    dill.dump(lime_dict['EXPLAINER'], open(cfg['PATHS']['LIME_EXPLAINER'], 'wb'))    # Serialize the explainer\n",
    "\n",
    "    # Load trained model's weights\n",
    "    lime_dict['MODEL'] = load_model(cfg['PATHS']['MODEL_TO_LOAD'], compile=False)\n",
    "\n",
    "    return lime_dict"
   ]
  },
  {
   "cell_type": "code",
   "execution_count": null,
   "metadata": {},
   "outputs": [],
   "source": [
    "def explain_xray(lime_dict, idx, save_exp=True):\n",
    "    '''\n",
    "    Make a prediction and provide a LIME explanation\n",
    "    :param lime_dict: dict containing important information and objects for explanation experiments\n",
    "    :param idx: index of image in test set to explain\n",
    "    :param save_exp: Boolean indicating whether to save the explanation visualization\n",
    "    '''\n",
    "\n",
    "    # Get i'th preprocessed image in test set\n",
    "    lime_dict['TEST_GENERATOR'].reset()\n",
    "    for i in range(idx + 1):\n",
    "        x, y = lime_dict['TEST_GENERATOR'].next()\n",
    "    x = np.squeeze(x, axis=0)\n",
    "\n",
    "    # Get the corresponding original image (no preprocessing)\n",
    "    orig_img = cv2.imread(lime_dict['RAW_DATA_PATH'] + lime_dict['TEST_SET']['filename'][idx])\n",
    "    new_dim = tuple(lime_dict['IMG_DIM'])\n",
    "    orig_img = cv2.resize(orig_img, new_dim, interpolation=cv2.INTER_NEAREST)     # Resize image\n",
    "\n",
    "    # Make a prediction for this image and retrieve a LIME explanation for the prediction\n",
    "    start_time = datetime.datetime.now()\n",
    "    explanation, probs = predict_and_explain(x, lime_dict['MODEL'], lime_dict['EXPLAINER'],\n",
    "                                            lime_dict['NUM_FEATURES'], lime_dict['NUM_SAMPLES'])\n",
    "    print(\"Explanation time = \" + str((datetime.datetime.now() - start_time).total_seconds()) + \" seconds\")\n",
    "\n",
    "\n",
    "    # Get image filename and label\n",
    "    img_filename = lime_dict['TEST_SET']['filename'][idx]\n",
    "    label = lime_dict['TEST_SET']['label'][idx]\n",
    "\n",
    "    # Rearrange prediction probability vector to reflect original ordering of classes in project config\n",
    "    probs = [probs[0][lime_dict['CLASSES'].index(c)] for c in lime_dict['TEST_GENERATOR'].class_indices]\n",
    "\n",
    "    # Visualize the LIME explanation and optionally save it to disk\n",
    "    if save_exp:\n",
    "        file_path = lime_dict['IMG_PATH']\n",
    "    else:\n",
    "        file_path = None\n",
    "    if lime_dict['COVID_ONLY'] == True:\n",
    "        label_to_see = lime_dict['TEST_GENERATOR'].class_indices['COVID-19']\n",
    "    else:\n",
    "        label_to_see = 'top'\n",
    "    _ = visualize_explanation(orig_img, explanation, img_filename, label, probs, lime_dict['CLASSES'], label_to_see=label_to_see,\n",
    "                          dir_path=file_path)\n",
    "    return\n",
    "\n"
   ]
  },
  {
   "cell_type": "code",
   "execution_count": null,
   "metadata": {},
   "outputs": [],
   "source": [
    "lime_dict = setup_lime()\n",
    "\n"
   ]
  },
  {
   "cell_type": "code",
   "execution_count": null,
   "metadata": {},
   "outputs": [],
   "source": [
    "lime_dict['TEST_GENERATOR'].reset()"
   ]
  },
  {
   "cell_type": "code",
   "execution_count": null,
   "metadata": {},
   "outputs": [],
   "source": [
    "'''\n",
    "for i in range(1 + 1):\n",
    "    x, y = lime_dict['TEST_GENERATOR'].next()\n",
    "    print(x,y)\n",
    "    '''"
   ]
  },
  {
   "cell_type": "code",
   "execution_count": null,
   "metadata": {},
   "outputs": [],
   "source": [
    "\n",
    "if __name__ == '__main__':\n",
    "    lime_dict = setup_lime()\n",
    "    i = 1                                                   # Select i'th image in test set\n",
    "    explain_xray(lime_dict, i, save_exp=True)                   # Generate explanation for image"
   ]
  },
  {
   "cell_type": "code",
   "execution_count": null,
   "metadata": {},
   "outputs": [],
   "source": []
  }
 ],
 "metadata": {
  "kernelspec": {
   "display_name": "Python 3.9 (XPython)",
   "language": "python",
   "name": "xpython"
  },
  "language_info": {
   "file_extension": ".py",
   "mimetype": "text/x-python",
   "name": "python",
   "version": "3.9.0"
  }
 },
 "nbformat": 4,
 "nbformat_minor": 4
}
